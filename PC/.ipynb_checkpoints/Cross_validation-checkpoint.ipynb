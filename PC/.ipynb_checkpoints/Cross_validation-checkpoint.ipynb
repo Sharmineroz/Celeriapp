{
 "cells": [
  {
   "cell_type": "code",
   "execution_count": null,
   "metadata": {
    "scrolled": true
   },
   "outputs": [
    {
     "name": "stdout",
     "output_type": "stream",
     "text": [
      "Learning rate: 0.1\n",
      "Training steps: 10\n",
      "Number of folds: 3\n"
     ]
    },
    {
     "name": "stderr",
     "output_type": "stream",
     "text": [
      "D:\\Anaconda\\lib\\site-packages\\h5py\\__init__.py:36: FutureWarning: Conversion of the second argument of issubdtype from `float` to `np.floating` is deprecated. In future, it will be treated as `np.float64 == np.dtype(float).type`.\n",
      "  from ._conv import register_converters as _register_converters\n"
     ]
    }
   ],
   "source": [
    "import os\n",
    "\n",
    "\n",
    "def main(_):\n",
    "    \n",
    "    learning_rate=input('Learning rate: ')\n",
    "    training_steps=input('Training steps: ')\n",
    "    number_of_folds=input('Number of folds: ')\n",
    "    \n",
    "    os.system('SET IMAGE_SIZE=224')\n",
    "    os.system('SET ARCHITECTURE=\"mobilenet_0.50_%IMAGE_SIZE%\"')\n",
    "    \n",
    "    p_total=0\n",
    "    \n",
    "    for i in range (0, int(number_of_folds)-1):\n",
    "        os.system('python -m scripts.retrain ^'+'\\n'+\n",
    "        '--bottleneck_dir=Fruit-Database/bottlenecks ^'+'\\n'+\n",
    "        '--how_many_training_steps='+training_steps+'^'+'\\n'+\n",
    "        '--learning_rate='+learning_rate+'^'+'\\n'+\n",
    "        '--model_dir=Fruit-Database/models/ ^'+'\\n'+\n",
    "        '--summaries_dir=Fruit-Database/training_summaries/%ARCHITECTURE% ^'+'\\n'+\n",
    "        '--output_graph=Fruit-Database/retrained_graph.pb ^'+'\\n'+\n",
    "        '--output_labels=Fruit-Database/retrained_labels.txt ^'+'\\n'+\n",
    "        '--architecture=\"%ARCHITECTURE%\" ^'+'\\n'+\n",
    "        '--number_of_folds='+number_of_folds+'^'+'\\n'+\n",
    "        '--current_fold='+ str(i) +'^'+'\\n'+\n",
    "        '--image_dir=Fruit-Database/Fruit_Data_base')\n",
    "        \n",
    "        from retrain import test_accuracy, done\n",
    "        \n",
    "        while not done:\n",
    "            from retrain import done\n",
    "        \n",
    "        p_total = p_total + (test_accuracy/int(number_of_folds))\n",
    "        print(i)\n",
    "        \n",
    "    print('La precision media del modelo es: ', p_total)\n",
    "                  \n",
    "if __name__ == '__main__':\n",
    "    main(_)"
   ]
  },
  {
   "cell_type": "code",
   "execution_count": 10,
   "metadata": {},
   "outputs": [
    {
     "name": "stdout",
     "output_type": "stream",
     "text": [
      "Learning rate: 0.5\n",
      "Training steps: 10\n",
      "Number of folds: 3\n",
      "b''\n"
     ]
    }
   ],
   "source": [
    "import os\n",
    "import subprocess\n",
    "import tempfile\n",
    "import time\n",
    "\n",
    "os.system('SET IMAGE_SIZE=224')\n",
    "os.system('SET ARCHITECTURE=\"mobilenet_0.50_%IMAGE_SIZE%\"')\n",
    "\n",
    "learning_rate=input('Learning rate: ')\n",
    "training_steps=input('Training steps: ')\n",
    "number_of_folds=input('Number of folds: ')\n",
    "    \n",
    "with tempfile.TemporaryFile() as tempf:\n",
    "    proc = subprocess.Popen('python -m retrain ^'+'\\n'+\n",
    "        '--bottleneck_dir=Fruit-Database/bottlenecks ^'+'\\n'+\n",
    "        '--how_many_training_steps='+training_steps+'^'+'\\n'+\n",
    "        '--learning_rate='+learning_rate+'^'+'\\n'+\n",
    "        '--model_dir=Fruit-Database/models/ ^'+'\\n'+\n",
    "        '--summaries_dir=Fruit-Database/training_summaries/%ARCHITECTURE% ^'+'\\n'+\n",
    "        '--output_graph=Fruit-Database/retrained_graph.pb ^'+'\\n'+\n",
    "        '--output_labels=Fruit-Database/retrained_labels.txt ^'+'\\n'+\n",
    "        '--architecture=\"%ARCHITECTURE%\" ^'+'\\n'+\n",
    "        '--number_of_folds='+number_of_folds+'^'+'\\n'+\n",
    "        '--current_fold='+ '1' +'^'+'\\n'+\n",
    "        '--image_dir=Fruit-Database/Fruit_Data_base', stdout=tempf, shell=True)\n",
    "    proc.wait()\n",
    "    tempf.seek(0)\n",
    "    print(tempf.read(), end=\"\"\\r\"\")\n",
    "    time.sleep(1)\n",
    "    "
   ]
  },
  {
   "cell_type": "code",
   "execution_count": null,
   "metadata": {},
   "outputs": [],
   "source": []
  }
 ],
 "metadata": {
  "kernelspec": {
   "display_name": "Python 3",
   "language": "python",
   "name": "python3"
  },
  "language_info": {
   "codemirror_mode": {
    "name": "ipython",
    "version": 3
   },
   "file_extension": ".py",
   "mimetype": "text/x-python",
   "name": "python",
   "nbconvert_exporter": "python",
   "pygments_lexer": "ipython3",
   "version": "3.6.5"
  }
 },
 "nbformat": 4,
 "nbformat_minor": 2
}
